{
 "cells": [
  {
   "cell_type": "markdown",
   "metadata": {},
   "source": [
    "# Download Data"
   ]
  },
  {
   "cell_type": "markdown",
   "metadata": {},
   "source": [
    "## Install Package\n",
    "To use the `geoai-py` package, ensure it is installed in your environment. Uncomment the command below if needed."
   ]
  },
  {
   "cell_type": "code",
   "execution_count": 7,
   "metadata": {},
   "outputs": [],
   "source": [
    "# %pip install geoai-py"
   ]
  },
  {
   "cell_type": "markdown",
   "metadata": {},
   "source": [
    "## Import Libraries\n",
    "These modules allow downloading NAIP imagery and extracting building data statistics."
   ]
  },
  {
   "cell_type": "code",
   "execution_count": 1,
   "metadata": {},
   "outputs": [],
   "source": [
    "import geoai\n",
    "import leafmap\n",
    "import os\n",
    "\n",
    "out_dir = '/beegfs/halder/GITHUB/LEARNING/geopython/data/'"
   ]
  },
  {
   "cell_type": "markdown",
   "metadata": {},
   "source": [
    "## Define Bounding Box\n",
    "Define the geographic extent (longitude and latitude) for data downloads."
   ]
  },
  {
   "cell_type": "code",
   "execution_count": 2,
   "metadata": {},
   "outputs": [
    {
     "data": {
      "application/vnd.jupyter.widget-view+json": {
       "model_id": "9c9d9b0cb91b4adb9463a7cf32e3e135",
       "version_major": 2,
       "version_minor": 0
      },
      "text/plain": [
       "Map(center=[47.6526, -117.5923], controls=(ZoomControl(options=['position', 'zoom_in_text', 'zoom_in_title', '…"
      ]
     },
     "execution_count": 2,
     "metadata": {},
     "output_type": "execute_result"
    }
   ],
   "source": [
    "Map = leafmap.Map(center=[47.6526, -117.5923], zoom=16)\n",
    "Map.add_basemap('SATELLITE')\n",
    "Map"
   ]
  },
  {
   "cell_type": "markdown",
   "metadata": {},
   "source": [
    "Use the drawing tools to draw a rectangle on the map. If no rectangle is drawn, the default ROI will be used."
   ]
  },
  {
   "cell_type": "code",
   "execution_count": 4,
   "metadata": {},
   "outputs": [
    {
     "data": {
      "text/plain": [
       "(-117.6029, 47.65, -117.5936, 47.6536)"
      ]
     },
     "execution_count": 4,
     "metadata": {},
     "output_type": "execute_result"
    }
   ],
   "source": [
    "bbox = Map.user_roi_bounds()\n",
    "if bbox is None:\n",
    "    bbox = (-117.6029, 47.65, -117.5936, 47.6536)\n",
    "bbox"
   ]
  },
  {
   "cell_type": "markdown",
   "metadata": {},
   "source": [
    "## Download NAIP Imagery\n",
    "Fetch NAIP aerial imagery for the specified bounding box. The `max_items` parameter limits the number of downloaded files."
   ]
  },
  {
   "cell_type": "code",
   "execution_count": 5,
   "metadata": {},
   "outputs": [
    {
     "name": "stdout",
     "output_type": "stream",
     "text": [
      "Retrieved 126 collections from Planetary Computer\n"
     ]
    },
    {
     "data": {
      "text/html": [
       "<div>\n",
       "<style scoped>\n",
       "    .dataframe tbody tr th:only-of-type {\n",
       "        vertical-align: middle;\n",
       "    }\n",
       "\n",
       "    .dataframe tbody tr th {\n",
       "        vertical-align: top;\n",
       "    }\n",
       "\n",
       "    .dataframe thead th {\n",
       "        text-align: right;\n",
       "    }\n",
       "</style>\n",
       "<table border=\"1\" class=\"dataframe\">\n",
       "  <thead>\n",
       "    <tr style=\"text-align: right;\">\n",
       "      <th></th>\n",
       "      <th>id</th>\n",
       "      <th>title</th>\n",
       "      <th>description</th>\n",
       "    </tr>\n",
       "  </thead>\n",
       "  <tbody>\n",
       "    <tr>\n",
       "      <th>42</th>\n",
       "      <td>3dep-lidar-classification</td>\n",
       "      <td>USGS 3DEP Lidar Classification</td>\n",
       "      <td>This collection is derived from the [USGS 3DEP...</td>\n",
       "    </tr>\n",
       "    <tr>\n",
       "      <th>28</th>\n",
       "      <td>3dep-lidar-copc</td>\n",
       "      <td>USGS 3DEP Lidar Point Cloud</td>\n",
       "      <td>This collection contains source data from the ...</td>\n",
       "    </tr>\n",
       "    <tr>\n",
       "      <th>3</th>\n",
       "      <td>3dep-lidar-dsm</td>\n",
       "      <td>USGS 3DEP Lidar Digital Surface Model</td>\n",
       "      <td>This collection is derived from the [USGS 3DEP...</td>\n",
       "    </tr>\n",
       "    <tr>\n",
       "      <th>43</th>\n",
       "      <td>3dep-lidar-dtm</td>\n",
       "      <td>USGS 3DEP Lidar Digital Terrain Model</td>\n",
       "      <td>This collection is derived from the [USGS 3DEP...</td>\n",
       "    </tr>\n",
       "    <tr>\n",
       "      <th>41</th>\n",
       "      <td>3dep-lidar-dtm-native</td>\n",
       "      <td>USGS 3DEP Lidar Digital Terrain Model (Native)</td>\n",
       "      <td>This collection is derived from the [USGS 3DEP...</td>\n",
       "    </tr>\n",
       "    <tr>\n",
       "      <th>...</th>\n",
       "      <td>...</td>\n",
       "      <td>...</td>\n",
       "      <td>...</td>\n",
       "    </tr>\n",
       "    <tr>\n",
       "      <th>15</th>\n",
       "      <td>terraclimate</td>\n",
       "      <td>TerraClimate</td>\n",
       "      <td>[TerraClimate](http://www.climatologylab.org/t...</td>\n",
       "    </tr>\n",
       "    <tr>\n",
       "      <th>55</th>\n",
       "      <td>us-census</td>\n",
       "      <td>US Census</td>\n",
       "      <td>The [2020 Census](https://www.census.gov/progr...</td>\n",
       "    </tr>\n",
       "    <tr>\n",
       "      <th>84</th>\n",
       "      <td>usda-cdl</td>\n",
       "      <td>USDA Cropland Data Layers (CDLs)</td>\n",
       "      <td>The Cropland Data Layer (CDL) is a product of ...</td>\n",
       "    </tr>\n",
       "    <tr>\n",
       "      <th>89</th>\n",
       "      <td>usgs-lcmap-conus-v13</td>\n",
       "      <td>USGS LCMAP CONUS Collection 1.3</td>\n",
       "      <td>The [Land Change Monitoring, Assessment, and P...</td>\n",
       "    </tr>\n",
       "    <tr>\n",
       "      <th>90</th>\n",
       "      <td>usgs-lcmap-hawaii-v10</td>\n",
       "      <td>USGS LCMAP Hawaii Collection 1.0</td>\n",
       "      <td>The [Land Change Monitoring, Assessment, and P...</td>\n",
       "    </tr>\n",
       "  </tbody>\n",
       "</table>\n",
       "<p>126 rows × 3 columns</p>\n",
       "</div>"
      ],
      "text/plain": [
       "                           id                                           title  \\\n",
       "42  3dep-lidar-classification                  USGS 3DEP Lidar Classification   \n",
       "28            3dep-lidar-copc                     USGS 3DEP Lidar Point Cloud   \n",
       "3              3dep-lidar-dsm           USGS 3DEP Lidar Digital Surface Model   \n",
       "43             3dep-lidar-dtm           USGS 3DEP Lidar Digital Terrain Model   \n",
       "41      3dep-lidar-dtm-native  USGS 3DEP Lidar Digital Terrain Model (Native)   \n",
       "..                        ...                                             ...   \n",
       "15               terraclimate                                    TerraClimate   \n",
       "55                  us-census                                       US Census   \n",
       "84                   usda-cdl                USDA Cropland Data Layers (CDLs)   \n",
       "89       usgs-lcmap-conus-v13                 USGS LCMAP CONUS Collection 1.3   \n",
       "90      usgs-lcmap-hawaii-v10                USGS LCMAP Hawaii Collection 1.0   \n",
       "\n",
       "                                          description  \n",
       "42  This collection is derived from the [USGS 3DEP...  \n",
       "28  This collection contains source data from the ...  \n",
       "3   This collection is derived from the [USGS 3DEP...  \n",
       "43  This collection is derived from the [USGS 3DEP...  \n",
       "41  This collection is derived from the [USGS 3DEP...  \n",
       "..                                                ...  \n",
       "15  [TerraClimate](http://www.climatologylab.org/t...  \n",
       "55  The [2020 Census](https://www.census.gov/progr...  \n",
       "84  The Cropland Data Layer (CDL) is a product of ...  \n",
       "89  The [Land Change Monitoring, Assessment, and P...  \n",
       "90  The [Land Change Monitoring, Assessment, and P...  \n",
       "\n",
       "[126 rows x 3 columns]"
      ]
     },
     "execution_count": 5,
     "metadata": {},
     "output_type": "execute_result"
    }
   ],
   "source": [
    "# Get the Planetary Computer data collection\n",
    "collections = geoai.pc_collection_list()\n",
    "collections"
   ]
  },
  {
   "cell_type": "code",
   "execution_count": 6,
   "metadata": {},
   "outputs": [
    {
     "name": "stdout",
     "output_type": "stream",
     "text": [
      "Found 1 items matching search criteria\n",
      "[<Item id=wa_m_4711720_sw_11_060_20230701_20230911>]\n",
      "['image', 'thumbnail', 'tilejson', 'rendered_preview']\n",
      "Processing STAC item: wa_m_4711720_sw_11_060_20230701_20230911\n",
      "Skipping existing asset: image -> /beegfs/halder/GITHUB/LEARNING/geopython/data/wa_m_4711720_sw_11_060_20230701_20230911_image.tif\n",
      "\n",
      "Downloaded 1 assets for 1 items\n"
     ]
    },
    {
     "data": {
      "text/plain": [
       "{'wa_m_4711720_sw_11_060_20230701_20230911': {'image': '/beegfs/halder/GITHUB/LEARNING/geopython/data/wa_m_4711720_sw_11_060_20230701_20230911_image.tif'}}"
      ]
     },
     "execution_count": 6,
     "metadata": {},
     "output_type": "execute_result"
    }
   ],
   "source": [
    "# Filter the NAIP data\n",
    "items = geoai.pc_stac_search(\n",
    "    collection='naip',\n",
    "    bbox=bbox,\n",
    "    time_range='2020-01-01/2024-12-31',\n",
    "    max_items=1\n",
    ")\n",
    "print(items)\n",
    "print(geoai.pc_item_asset_list(items[0]))\n",
    "\n",
    "# Download the data\n",
    "geoai.pc_stac_download(items, assets=['image'], output_dir=out_dir)"
   ]
  },
  {
   "cell_type": "markdown",
   "metadata": {},
   "source": [
    "## Download Building Data\n",
    "Retrieve building footprint data in GeoJSON format within the bounding box."
   ]
  },
  {
   "cell_type": "code",
   "execution_count": 10,
   "metadata": {},
   "outputs": [],
   "source": [
    "# Download buildings\n",
    "data_file = geoai.download_overture_buildings(\n",
    "    bbox=bbox,\n",
    "    output=os.path.join(out_dir, 'building.geojson'),\n",
    "    overture_type='building'\n",
    ")"
   ]
  },
  {
   "cell_type": "markdown",
   "metadata": {},
   "source": [
    "## Visualize Datasets"
   ]
  },
  {
   "cell_type": "code",
   "execution_count": 7,
   "metadata": {},
   "outputs": [
    {
     "data": {
      "application/vnd.jupyter.widget-view+json": {
       "model_id": "716298d8176041fba98bd290ffa5d65a",
       "version_major": 2,
       "version_minor": 0
      },
      "text/plain": [
       "Map(center=[47.656245, -117.59382049999999], controls=(ZoomControl(options=['position', 'zoom_in_text', 'zoom_…"
      ]
     },
     "execution_count": 7,
     "metadata": {},
     "output_type": "execute_result"
    }
   ],
   "source": [
    "Map = leafmap.Map()\n",
    "Map.add_basemap(basemap='SATELLITE')\n",
    "Map.add_raster(os.path.join(out_dir, 'wa_m_4711720_sw_11_060_20230701_20230911_image.tif'), layer_name='NAIP')\n",
    "Map.add_geojson(os.path.join(out_dir, 'building.geojson'), layer_name='Buildings')\n",
    "Map"
   ]
  }
 ],
 "metadata": {
  "kernelspec": {
   "display_name": "geo",
   "language": "python",
   "name": "geo"
  },
  "language_info": {
   "codemirror_mode": {
    "name": "ipython",
    "version": 3
   },
   "file_extension": ".py",
   "mimetype": "text/x-python",
   "name": "python",
   "nbconvert_exporter": "python",
   "pygments_lexer": "ipython3",
   "version": "3.12.11"
  }
 },
 "nbformat": 4,
 "nbformat_minor": 2
}
