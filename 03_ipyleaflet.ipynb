{
 "cells": [
  {
   "cell_type": "markdown",
   "metadata": {},
   "source": [
    "# Ipyleaflet\n",
    "\n",
    "[![Open In Colab](https://colab.research.google.com/assets/colab-badge.svg)](https://colab.research.google.com/github/giswqs/geog-510/blob/main/book/geospatial/ipyleaflet.ipynb)\n",
    "\n",
    "## Introduction\n",
    "**ipyleaflet** is a Python library that brings the power of **Leaflet.js** to **Jupyter Notebooks**. It allows interactive mapping, geospatial visualization, and dynamic map customization with widgets.\n",
    "\n",
    "### Learning Objectives\n",
    "By the end of this lecture, you will:\n",
    "- Understand what ipyleaflet is and how it differs from Folium.\n",
    "- Learn to create basic maps and add markers.\n",
    "- Explore how to use geospatial layers and data.\n",
    "- Customize maps with widgets and interactivity.\n",
    "\n",
    "## 1. Installing and Importing ipyleaflet\n",
    "To install ipyleaflet, run the following command:\n",
    "\n",
    "```bash\n",
    "pip install ipyleaflet\n",
    "```\n",
    "\n",
    "Then, import it in Python:"
   ]
  },
  {
   "cell_type": "code",
   "execution_count": 54,
   "metadata": {},
   "outputs": [],
   "source": [
    "from ipyleaflet import Map, Marker"
   ]
  },
  {
   "cell_type": "markdown",
   "metadata": {},
   "source": [
    "## Creating a Basic Map\n",
    "A simple ipyleaflet map can be created as follows:"
   ]
  },
  {
   "cell_type": "code",
   "execution_count": 55,
   "metadata": {},
   "outputs": [
    {
     "data": {
      "application/vnd.jupyter.widget-view+json": {
       "model_id": "3bbf8a57dc394bf3aef4c5daec7970f7",
       "version_major": 2,
       "version_minor": 0
      },
      "text/plain": [
       "Map(center=[40, -100], controls=(ZoomControl(options=['position', 'zoom_in_text', 'zoom_in_title', 'zoom_out_t…"
      ]
     },
     "execution_count": 55,
     "metadata": {},
     "output_type": "execute_result"
    }
   ],
   "source": [
    "m = Map(center=(40, -100), zoom=4, scroll_wheel_zoom=True)\n",
    "m"
   ]
  },
  {
   "cell_type": "markdown",
   "metadata": {},
   "source": [
    "### Map Parameters\n",
    "- `center`: The latitude and longitude of the map center.\n",
    "- `zoom`: The initial zoom level.\n",
    "\n",
    "## Adding Markers\n",
    "Markers help highlight specific locations on the map."
   ]
  },
  {
   "cell_type": "code",
   "execution_count": 56,
   "metadata": {},
   "outputs": [
    {
     "data": {
      "application/vnd.jupyter.widget-view+json": {
       "model_id": "3bbf8a57dc394bf3aef4c5daec7970f7",
       "version_major": 2,
       "version_minor": 0
      },
      "text/plain": [
       "Map(center=[40, -100], controls=(ZoomControl(options=['position', 'zoom_in_text', 'zoom_in_title', 'zoom_out_t…"
      ]
     },
     "execution_count": 56,
     "metadata": {},
     "output_type": "execute_result"
    }
   ],
   "source": [
    "marker = Marker(location=(37.7749, -122.4194))\n",
    "m.add_layer(marker)\n",
    "m"
   ]
  },
  {
   "cell_type": "markdown",
   "metadata": {},
   "source": [
    "## Adding Tile Layers\n",
    "Different tile layers can be used to change the appearance of the map."
   ]
  },
  {
   "cell_type": "code",
   "execution_count": 57,
   "metadata": {},
   "outputs": [
    {
     "data": {
      "application/vnd.jupyter.widget-view+json": {
       "model_id": "3bbf8a57dc394bf3aef4c5daec7970f7",
       "version_major": 2,
       "version_minor": 0
      },
      "text/plain": [
       "Map(center=[40, -100], controls=(ZoomControl(options=['position', 'zoom_in_text', 'zoom_in_title', 'zoom_out_t…"
      ]
     },
     "execution_count": 57,
     "metadata": {},
     "output_type": "execute_result"
    }
   ],
   "source": [
    "from ipyleaflet import TileLayer\n",
    "\n",
    "layer = TileLayer(url=\"https://{s}.tile.opentopomap.org/{z}/{x}/{y}.png\", attribution='OpenTopoMap')\n",
    "m.add(layer)\n",
    "m"
   ]
  },
  {
   "cell_type": "markdown",
   "metadata": {},
   "source": [
    "Common tile providers:\n",
    "- `OpenStreetMap`\n",
    "- `Stamen Terrain`\n",
    "- `CartoDB DarkMatter`\n",
    "\n",
    "## Adding GeoJSON Layers\n",
    "GeoJSON files allow visualization of geospatial boundaries."
   ]
  },
  {
   "cell_type": "code",
   "execution_count": 58,
   "metadata": {},
   "outputs": [
    {
     "data": {
      "application/vnd.jupyter.widget-view+json": {
       "model_id": "3584ae5d19b34152875579be51f5b26d",
       "version_major": 2,
       "version_minor": 0
      },
      "text/plain": [
       "Map(center=[40, -100], controls=(ZoomControl(options=['position', 'zoom_in_text', 'zoom_in_title', 'zoom_out_t…"
      ]
     },
     "execution_count": 58,
     "metadata": {},
     "output_type": "execute_result"
    }
   ],
   "source": [
    "from ipyleaflet import GeoJSON\n",
    "import json\n",
    "\n",
    "data = {\n",
    "  \"type\": \"FeatureCollection\",\n",
    "  \"features\": [\n",
    "    {\n",
    "      \"type\": \"Feature\",\n",
    "      \"properties\": {'name': 'San Francisco'},\n",
    "      \"geometry\": {\n",
    "        \"coordinates\": [\n",
    "          [\n",
    "            [\n",
    "              -122.42979055147434,\n",
    "              37.789685475303614\n",
    "            ],\n",
    "            [\n",
    "              -122.42979055147434,\n",
    "              37.772508464831176\n",
    "            ],\n",
    "            [\n",
    "              -122.4087312246831,\n",
    "              37.772508464831176\n",
    "            ],\n",
    "            [\n",
    "              -122.4087312246831,\n",
    "              37.789685475303614\n",
    "            ],\n",
    "            [\n",
    "              -122.42979055147434,\n",
    "              37.789685475303614\n",
    "            ]\n",
    "          ]\n",
    "        ],\n",
    "        \"type\": \"Polygon\"\n",
    "      }\n",
    "    }\n",
    "  ]\n",
    "}\n",
    "m = Map(center=(40, -100), zoom=4, scroll_wheel_zoom=True)\n",
    "gj = GeoJSON(data=data)\n",
    "m.add_layer(gj)\n",
    "m"
   ]
  },
  {
   "cell_type": "markdown",
   "metadata": {},
   "source": [
    "## Adding a Choropleth Layer\n",
    "Choropleth maps visualize geographic data distributions."
   ]
  },
  {
   "cell_type": "code",
   "execution_count": 59,
   "metadata": {},
   "outputs": [
    {
     "data": {
      "text/plain": [
       "'/beegfs/halder/GITHUB/LEARNING/geopython'"
      ]
     },
     "execution_count": 59,
     "metadata": {},
     "output_type": "execute_result"
    }
   ],
   "source": [
    "import os\n",
    "os.getcwd()"
   ]
  },
  {
   "cell_type": "code",
   "execution_count": 60,
   "metadata": {},
   "outputs": [
    {
     "data": {
      "application/vnd.jupyter.widget-view+json": {
       "model_id": "5efeaa1c613040e0b8f76cf74d51021c",
       "version_major": 2,
       "version_minor": 0
      },
      "text/plain": [
       "Map(center=[50.6252978589571, 0.34580993652344], controls=(ZoomControl(options=['position', 'zoom_in_text', 'z…"
      ]
     },
     "execution_count": 60,
     "metadata": {},
     "output_type": "execute_result"
    }
   ],
   "source": [
    "import os\n",
    "import json\n",
    "import random\n",
    "import requests\n",
    "\n",
    "from ipyleaflet import Map, GeoJSON\n",
    "\n",
    "if not os.path.exists(os.path.join(os.getcwd(), 'europe_110.geo.json')):\n",
    "    url = r'https://github.com/jupyter-widgets/ipyleaflet/raw/master/examples/europe_110.geo.json'\n",
    "    r = requests.get(url)\n",
    "    with open(os.path.join(os.getcwd(), 'europe_110.geo.json'), 'w') as f:\n",
    "        f.write(r.content.decode('utf-8'))\n",
    "\n",
    "with open(os.path.join(os.getcwd(), 'europe_110.geo.json')) as f:\n",
    "    data = json.load(f)\n",
    "\n",
    "def random_color(feature):\n",
    "    return {\n",
    "        'color': 'black',\n",
    "        'fillColor': random.choice(['red', 'yellow', 'green', 'orange'])\n",
    "    }\n",
    "\n",
    "m = Map(center=(50.6252978589571, 0.34580993652344), zoom=3, scroll_wheel_zoom=True)\n",
    "\n",
    "geo_json = GeoJSON(\n",
    "    name='Countries',\n",
    "    data=data,\n",
    "    style={'opacity': 1, 'fillOpacity': 0.1, 'weight': 1},\n",
    "    hover_style={'color': 'white', 'fillOpacity': 0.5},\n",
    "    style_callback=random_color\n",
    ")\n",
    "m.add(geo_json)\n",
    "m"
   ]
  },
  {
   "cell_type": "markdown",
   "metadata": {},
   "source": [
    "## Adding Layer Controls\n",
    "To toggle layers dynamically:"
   ]
  },
  {
   "cell_type": "code",
   "execution_count": 61,
   "metadata": {},
   "outputs": [
    {
     "data": {
      "application/vnd.jupyter.widget-view+json": {
       "model_id": "5efeaa1c613040e0b8f76cf74d51021c",
       "version_major": 2,
       "version_minor": 0
      },
      "text/plain": [
       "Map(center=[50.6252978589571, 0.34580993652344], controls=(ZoomControl(options=['position', 'zoom_in_text', 'z…"
      ]
     },
     "execution_count": 61,
     "metadata": {},
     "output_type": "execute_result"
    }
   ],
   "source": [
    "from ipyleaflet import LayersControl, FullScreenControl\n",
    "\n",
    "m.add_control(LayersControl())\n",
    "m.add_control(FullScreenControl())\n",
    "m"
   ]
  },
  {
   "cell_type": "markdown",
   "metadata": {},
   "source": [
    "## Adding Interactive Widgets\n",
    "Widgets enable real-time interaction with the map."
   ]
  },
  {
   "cell_type": "code",
   "execution_count": 42,
   "metadata": {},
   "outputs": [
    {
     "data": {
      "application/vnd.jupyter.widget-view+json": {
       "model_id": "a5b0e8eba531425f9336986b67295db5",
       "version_major": 2,
       "version_minor": 0
      },
      "text/plain": [
       "FloatSlider(value=3.0, description='Zoom Level', max=20.0, min=1.0)"
      ]
     },
     "execution_count": 42,
     "metadata": {},
     "output_type": "execute_result"
    }
   ],
   "source": [
    "from ipywidgets import FloatSlider\n",
    "\n",
    "zoom_slider = FloatSlider(description=\"Zoom Level\", min=1, max=20, value=m.zoom)\n",
    "\n",
    "def zoom_change(change):\n",
    "    m.zoom = change[\"new\"]\n",
    "\n",
    "zoom_slider.observe(zoom_change, \"value\")\n",
    "zoom_slider"
   ]
  }
 ],
 "metadata": {
  "kernelspec": {
   "display_name": "geo",
   "language": "python",
   "name": "geo"
  },
  "language_info": {
   "codemirror_mode": {
    "name": "ipython",
    "version": 3
   },
   "file_extension": ".py",
   "mimetype": "text/x-python",
   "name": "python",
   "nbconvert_exporter": "python",
   "pygments_lexer": "ipython3",
   "version": "3.12.11"
  }
 },
 "nbformat": 4,
 "nbformat_minor": 2
}
